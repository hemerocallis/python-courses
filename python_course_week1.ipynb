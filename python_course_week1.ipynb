{
 "cells": [
  {
   "cell_type": "code",
   "execution_count": 1,
   "metadata": {
    "collapsed": false
   },
   "outputs": [
    {
     "name": "stdout",
     "output_type": "stream",
     "text": [
      "4\n",
      "5\n",
      "9\n",
      "-1\n",
      "0\n",
      "0.8\n",
      "4\n",
      "64\n",
      "25\n"
     ]
    }
   ],
   "source": [
    "# Считать отдельными операторами два целых числа, получить: сумму, разность, \n",
    "# результат целочисленного деления, частное, остаток от деления,  \n",
    "# третью степень первого числа и вторую степень второго числа \n",
    "# и вывести их отдельными операторами вывода.\n",
    "\n",
    "a = int(input())\n",
    "b = int(input())\n",
    "\n",
    "print(a + b)     # сумма\n",
    "print(a - b)     # разность\n",
    "print(a // b)    # целочисленное деление\n",
    "print(a / b)     # частное\n",
    "print(a % b)     # остаток от деления   \n",
    "print(a ** 3)    # возведение в сепень\n",
    "print(b ** 2)    "
   ]
  },
  {
   "cell_type": "code",
   "execution_count": 5,
   "metadata": {
    "collapsed": false
   },
   "outputs": [
    {
     "name": "stdout",
     "output_type": "stream",
     "text": [
      "Maria Peter Anna\n",
      "Anna Maria Peter\n",
      "Peter Maria Anna\n"
     ]
    }
   ],
   "source": [
    "# Считать несколько имен людей одной строкой, записанных латиницей, \n",
    "# через пробел, например: «Anna Maria Peter». \n",
    "# Вывести их одной строкой в порядке возрастания «Anna Maria Peter».\n",
    "# Вывести их одной строкой в порядке убывания «Peter Maria Anna».\n",
    "\n",
    "s = str(input())\n",
    "\n",
    "sorted_list = sorted(s.split())\n",
    "print(' '.join(sorted_list))\n",
    "\n",
    "reversed_list = sorted_list[::-1]\n",
    "print(' '.join(reversed_list))"
   ]
  },
  {
   "cell_type": "code",
   "execution_count": 9,
   "metadata": {
    "collapsed": false
   },
   "outputs": [
    {
     "name": "stdout",
     "output_type": "stream",
     "text": [
      "45646542131321\n",
      "(1, 2, 3, 4, 5, 6)\n",
      "(6, 5, 4, 3, 2, 1)\n"
     ]
    }
   ],
   "source": [
    "# Считать единой строкой без пробелов набор целых чисел (28745623873465386), \n",
    "# удалить все дубликаты, вывести отдельными операторами вывода в порядке возрастания \n",
    "# и в порядке убывания в виде кортежей целых чисел (2, 3, 4, 5, 6, 7, 8) и (8, 7, 6, 5, 4, 3, 2).\n",
    "\n",
    "n = input()\n",
    "\n",
    "# set может содержать только уникальные значения.\n",
    "# приводим множество к списку и сортируем его в порядке возрастания\n",
    "sorted_list = sorted(list(set(n)))       \n",
    "\n",
    "# преобразуем список в кортеж целых чисел и выводим результат\n",
    "print(tuple(map(int, sorted_list)))\n",
    "\n",
    "# меняем порядок элементов списка на противоположный\n",
    "reversed_list = sorted_list[::-1]\n",
    "\n",
    "# преобразуем перевернутый список в кортеж целых чисел и выводим результат\n",
    "print(tuple(map(int, reversed_list)))"
   ]
  },
  {
   "cell_type": "code",
   "execution_count": null,
   "metadata": {
    "collapsed": true
   },
   "outputs": [],
   "source": []
  }
 ],
 "metadata": {
  "kernelspec": {
   "display_name": "Python 3",
   "language": "python",
   "name": "python3"
  },
  "language_info": {
   "codemirror_mode": {
    "name": "ipython",
    "version": 3
   },
   "file_extension": ".py",
   "mimetype": "text/x-python",
   "name": "python",
   "nbconvert_exporter": "python",
   "pygments_lexer": "ipython3",
   "version": "3.5.2"
  }
 },
 "nbformat": 4,
 "nbformat_minor": 1
}
