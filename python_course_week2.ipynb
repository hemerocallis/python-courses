{
 "cells": [
  {
   "cell_type": "code",
   "execution_count": 1,
   "metadata": {
    "collapsed": false
   },
   "outputs": [
    {
     "name": "stdout",
     "output_type": "stream",
     "text": [
      "4\n",
      "5\n",
      "20 18\n"
     ]
    }
   ],
   "source": [
    "# Считать отдельными операторами целочисленные ширину и высоту прямоугольника. Создать функцию (def), \n",
    "# принимающую в качестве параметров ширину и высоту фигуры и название функции, которую необходимо выполнить. \n",
    "# Имя вложенной функции передавать явным образом (например: (a,b,name='perim')).\n",
    "# Внутри функции создать две вложенные функции (def) по подсчету площади и периметра фигуры. \n",
    "# Вывести одной строкой через пробел площадь и периметр, разделенные пробелом (например, '20 18').\n",
    "\n",
    "a = int(input())\n",
    "b = int(input())\n",
    "\n",
    "def f(a, b):\n",
    "    def sq(a, b):\n",
    "        return a * b\n",
    "    def perim(a, b):\n",
    "        return (a + b) * 2\n",
    "    print(sq(a, b), perim(a, b))   \n",
    "\n",
    "f(a, b)"
   ]
  },
  {
   "cell_type": "code",
   "execution_count": 2,
   "metadata": {
    "collapsed": false
   },
   "outputs": [
    {
     "name": "stdout",
     "output_type": "stream",
     "text": [
      "4\n",
      "5\n",
      "20 18\n"
     ]
    }
   ],
   "source": [
    "# Считать отдельными операторами целочисленные ширину и высоту прямоугольника, создать функцию (def), \n",
    "# принимающую в качестве параметров ширину и высоту фигуры.\n",
    "# Внутри функции создать две вложенные функции (lambda) по подсчету площади и периметра фигуры. \n",
    "# Вывести одной строкой через пробел площадь и периметр, разделенные пробелом (например '20 18').\n",
    "\n",
    "a = int(input())\n",
    "b = int(input())\n",
    "\n",
    "def func(a, b):\n",
    "    sq = (lambda a, b: a * b)(a, b)\n",
    "    perim = (lambda a, b: (a + b) * 2)(a, b)\n",
    "    print(sq, perim)\n",
    "             \n",
    "func(a, b)"
   ]
  },
  {
   "cell_type": "code",
   "execution_count": 6,
   "metadata": {
    "collapsed": false
   },
   "outputs": [
    {
     "name": "stdout",
     "output_type": "stream",
     "text": [
      "4\n",
      "5\n",
      "0 20\n",
      "1 18\n",
      "[20, 18]\n",
      "20 18\n"
     ]
    }
   ],
   "source": [
    "# Считать отдельными операторами целочисленные ширину и высоту прямоугольника, \n",
    "# создать список из лямбда функций подсчета площади и периметра фигуры. \n",
    "# Вывести первым оператором индекс лямбда функции подсчета площади и ее результат (например:0 20);\n",
    "# вторым оператором индекс лямбда функции подсчета периметра и ее результат (например:1 18);\n",
    "# вывести третьим оператором список полученных значений (например: [20, 18]);\n",
    "# вывести четвертым оператором итоговые значения, сведенные в одну строку через пробел (например: '20 18').\n",
    "\n",
    "a = int(input())\n",
    "b = int(input())\n",
    "\n",
    "sq = (lambda a, b: a * b)\n",
    "perim = (lambda a, b: (a + b) * 2)\n",
    "\n",
    "alist = [sq, perim]\n",
    "\n",
    "def f(a, b, *args):\n",
    "    for i, arg in enumerate(args):\n",
    "        print(i, arg(a, b))\n",
    "\n",
    "f(a, b, *alist)\n",
    "\n",
    "def f1(*args):\n",
    "    return sq(a, b), perim(a, b)\n",
    "\n",
    "c = list(f1(alist, a, b))\n",
    "print(c)\n",
    "\n",
    "print(alist[0](a, b), alist[1](a, b))"
   ]
  },
  {
   "cell_type": "code",
   "execution_count": null,
   "metadata": {
    "collapsed": true
   },
   "outputs": [],
   "source": []
  }
 ],
 "metadata": {
  "kernelspec": {
   "display_name": "Python 3",
   "language": "python",
   "name": "python3"
  },
  "language_info": {
   "codemirror_mode": {
    "name": "ipython",
    "version": 3
   },
   "file_extension": ".py",
   "mimetype": "text/x-python",
   "name": "python",
   "nbconvert_exporter": "python",
   "pygments_lexer": "ipython3",
   "version": "3.5.2"
  }
 },
 "nbformat": 4,
 "nbformat_minor": 1
}
