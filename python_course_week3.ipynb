{
 "cells": [
  {
   "cell_type": "code",
   "execution_count": 21,
   "metadata": {
    "collapsed": false
   },
   "outputs": [
    {
     "name": "stdout",
     "output_type": "stream",
     "text": [
      "apple\n",
      "md5 1f3870be274f6c49b3e31a0c6728957f\n",
      "sha1 d0be2dc421be4fcd0172e5afceea3970e2f3d940\n",
      "sha224 b7bbfdf1a1012999b3c466fdeb906a629caa5e3e022428d1eb702281\n",
      "sha256 3a7bd3e2360a3d29eea436fcfb7e44c735d117c42d1c1835420b6b9942dd4f1b\n",
      "sha384 3d8786fcb588c93348756c6429717dc6c374a14f7029362281a3b21dc10250ddf0d0578052749822eb08bc0dc1e68b0f\n",
      "sha512 844d8779103b94c18f4aa4cc0c3b4474058580a991fba85d3ca698a0bc9e52c5940feb7a65a3a290e17e6b23ee943ecc4f73e7490327245b4fe5d5efb590feb2\n"
     ]
    }
   ],
   "source": [
    "# Ввести с клавиатуры строку латиницей (1-3 слова). \n",
    "# Зашифровать ее с использованием гарантированных алгоритмов шифрования. \n",
    "# Сформировать словарь, где в качестве ключа используется название \n",
    "# гарантированного алгоритма шифрования (md5, sha1, sha224, sha256, sha384, sha512),  \n",
    "# а в качестве значения - результат шифрования в шестнадцатеричном представлении \n",
    "# { 'sha1': 'd0b…', 'md5', '1f3…',…}.\n",
    "# Итог вывести отдельными операторами вывода в виде пар ключа и значения, \n",
    "# отсортированных по возрастанию ключа:\n",
    "# md5 1f3…\n",
    "# sha1 d0b…\n",
    "\n",
    "import hashlib\n",
    "\n",
    "s = str(input())\n",
    "\n",
    "md5 = (hashlib.md5(s.encode())).hexdigest()\n",
    "sha1 = (hashlib.sha1(s.encode())).hexdigest()\n",
    "sha224 = (hashlib.sha224(s.encode())).hexdigest()\n",
    "sha256 = (hashlib.sha256(s.encode())).hexdigest()\n",
    "sha384 = (hashlib.sha384(s.encode())).hexdigest()\n",
    "sha512 = (hashlib.sha512(s.encode())).hexdigest()\n",
    "\n",
    "encoded_dict = {'md5': md5, 'sha1': sha1, 'sha224': sha224, 'sha256': sha256, 'sha384': sha384, 'sha512': sha512}\n",
    "\n",
    "for key, value in sorted(encoded_dict.items()):\n",
    "    print(key, value)\n"
   ]
  },
  {
   "cell_type": "code",
   "execution_count": null,
   "metadata": {
    "collapsed": true
   },
   "outputs": [],
   "source": []
  }
 ],
 "metadata": {
  "kernelspec": {
   "display_name": "Python 3",
   "language": "python",
   "name": "python3"
  },
  "language_info": {
   "codemirror_mode": {
    "name": "ipython",
    "version": 3
   },
   "file_extension": ".py",
   "mimetype": "text/x-python",
   "name": "python",
   "nbconvert_exporter": "python",
   "pygments_lexer": "ipython3",
   "version": "3.5.2"
  }
 },
 "nbformat": 4,
 "nbformat_minor": 1
}
